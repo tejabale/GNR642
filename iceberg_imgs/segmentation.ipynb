{
 "cells": [
  {
   "cell_type": "code",
   "execution_count": 1,
   "metadata": {},
   "outputs": [],
   "source": [
    "import cv2\n",
    "import numpy as np\n",
    "\n",
    "sar_image = cv2.imread('image1.png', 0)  # Read as grayscale\n",
    "\n",
    "sar_image_smoothed = cv2.GaussianBlur(sar_image, (5, 5), 0)\n",
    "lower_threshold = 150  \n",
    "upper_threshold = 250  \n",
    "\n",
    "edges = cv2.Canny(sar_image_smoothed, lower_threshold, upper_threshold)\n",
    "\n",
    "overlay_image = cv2.cvtColor(sar_image, cv2.COLOR_GRAY2BGR)\n",
    "\n",
    "edge_color = (0, 255, 0)\n",
    "\n",
    "overlay_image[edges != 0] = edge_color\n",
    "\n",
    "cv2.imshow('SAR Image with Overlaid Edges', overlay_image)\n",
    "key = cv2.waitKey(0)\n",
    "\n",
    "if key == 27:\n",
    "    cv2.destroyAllWindows()\n"
   ]
  },
  {
   "cell_type": "code",
   "execution_count": 1,
   "metadata": {},
   "outputs": [],
   "source": [
    "import cv2\n",
    "import numpy as np\n",
    "\n",
    "# Load the image\n",
    "image = cv2.imread('image1.png')\n",
    "\n",
    "# Convert the image to grayscale\n",
    "grayscale_image = cv2.cvtColor(image, cv2.COLOR_BGR2GRAY)\n",
    "\n",
    "# Apply Canny edge detection to extract iceberg boundaries\n",
    "edges = cv2.Canny(grayscale_image, 50, 150)\n",
    "\n",
    "# Combine the original image with the detected edges\n",
    "edged_image = cv2.bitwise_and(image, image, mask=edges)\n",
    "\n",
    "# Display the original image with edges\n",
    "cv2.imshow('Original Image with Edges', edged_image)\n",
    "cv2.waitKey(0)\n",
    "cv2.destroyAllWindows()\n"
   ]
  },
  {
   "cell_type": "code",
   "execution_count": null,
   "metadata": {},
   "outputs": [],
   "source": []
  }
 ],
 "metadata": {
  "kernelspec": {
   "display_name": "Python 3.10.12 64-bit",
   "language": "python",
   "name": "python3"
  },
  "language_info": {
   "codemirror_mode": {
    "name": "ipython",
    "version": 3
   },
   "file_extension": ".py",
   "mimetype": "text/x-python",
   "name": "python",
   "nbconvert_exporter": "python",
   "pygments_lexer": "ipython3",
   "version": "3.10.12"
  },
  "orig_nbformat": 4,
  "vscode": {
   "interpreter": {
    "hash": "916dbcbb3f70747c44a77c7bcd40155683ae19c65e1c03b4aa3499c5328201f1"
   }
  }
 },
 "nbformat": 4,
 "nbformat_minor": 2
}
